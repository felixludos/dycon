{
 "cells": [
  {
   "cell_type": "code",
   "execution_count": 1,
   "id": "6418211a",
   "metadata": {},
   "outputs": [
    {
     "data": {
      "text/html": [
       "<style>.container { width:80% !important; }</style>"
      ],
      "text/plain": [
       "<IPython.core.display.HTML object>"
      ]
     },
     "metadata": {},
     "output_type": "display_data"
    }
   ],
   "source": [
    "import sys, os, time, shutil, random\n",
    "from pathlib import Path\n",
    "if '_cwd' not in locals():\n",
    "    _cwd = os.getcwd()\n",
    "    os.chdir(Path(_cwd)/'..')\n",
    "from IPython.core.display import display, HTML\n",
    "display(HTML(\"<style>.container { width:80% !important; }</style>\"))\n",
    "\n",
    "import markdown\n",
    "from IPython.core.display import HTML\n",
    "\n",
    "from src import *"
   ]
  },
  {
   "cell_type": "code",
   "execution_count": 2,
   "id": "b87c2ac0",
   "metadata": {},
   "outputs": [],
   "source": [
    "root = Path('extra/testing')\n",
    "root.mkdir(exist_ok=True);"
   ]
  },
  {
   "cell_type": "code",
   "execution_count": 3,
   "id": "4f90874b",
   "metadata": {},
   "outputs": [],
   "source": [
    "ID = '2109q00000'"
   ]
  },
  {
   "cell_type": "code",
   "execution_count": 4,
   "id": "fdc5d136",
   "metadata": {},
   "outputs": [],
   "source": [
    "cl = Client(root)"
   ]
  },
  {
   "cell_type": "code",
   "execution_count": 5,
   "id": "a79f7b80",
   "metadata": {},
   "outputs": [
    {
     "data": {
      "text/plain": [
       "{'ID': '2109q00000', '_path': WindowsPath('extra/testing/2109q00000')}"
      ]
     },
     "execution_count": 5,
     "metadata": {},
     "output_type": "execute_result"
    }
   ],
   "source": [
    "q = cl.load_query(ID)\n",
    "q"
   ]
  },
  {
   "cell_type": "code",
   "execution_count": 6,
   "id": "bcc261dc",
   "metadata": {},
   "outputs": [
    {
     "data": {
      "text/plain": [
       "UserSpace(mandymooressingingvoice, UFO_believer, pixie_dust, bigfootisreal, CourtesyFlush, catsordogs, ManEatsPants, banana_hammock, actuallythedog, Something)"
      ]
     },
     "execution_count": 6,
     "metadata": {},
     "output_type": "execute_result"
    }
   ],
   "source": [
    "cl.users"
   ]
  },
  {
   "cell_type": "code",
   "execution_count": 7,
   "id": "ff12d317",
   "metadata": {},
   "outputs": [
    {
     "data": {
      "text/plain": [
       "{'ID': '2', 'name': 'pixie_dust', 'support': {}, 'tags': []}"
      ]
     },
     "execution_count": 7,
     "metadata": {},
     "output_type": "execute_result"
    }
   ],
   "source": [
    "cl.login('pixie_dust')"
   ]
  },
  {
   "cell_type": "code",
   "execution_count": null,
   "id": "3d4d5b1e",
   "metadata": {},
   "outputs": [],
   "source": []
  },
  {
   "cell_type": "code",
   "execution_count": null,
   "id": "cb7c92d4",
   "metadata": {},
   "outputs": [],
   "source": []
  },
  {
   "cell_type": "code",
   "execution_count": null,
   "id": "2421e032",
   "metadata": {},
   "outputs": [],
   "source": []
  },
  {
   "cell_type": "code",
   "execution_count": null,
   "id": "538ae1c9",
   "metadata": {},
   "outputs": [],
   "source": []
  },
  {
   "cell_type": "code",
   "execution_count": null,
   "id": "0f62d195",
   "metadata": {},
   "outputs": [],
   "source": []
  },
  {
   "cell_type": "code",
   "execution_count": null,
   "id": "f83d3ea2",
   "metadata": {},
   "outputs": [],
   "source": []
  },
  {
   "cell_type": "code",
   "execution_count": null,
   "id": "871d3671",
   "metadata": {},
   "outputs": [],
   "source": []
  },
  {
   "cell_type": "code",
   "execution_count": null,
   "id": "99f15580",
   "metadata": {},
   "outputs": [],
   "source": []
  },
  {
   "cell_type": "code",
   "execution_count": null,
   "id": "36f4e348",
   "metadata": {},
   "outputs": [],
   "source": []
  },
  {
   "cell_type": "code",
   "execution_count": null,
   "id": "d3c34e3b",
   "metadata": {},
   "outputs": [],
   "source": []
  }
 ],
 "metadata": {
  "kernelspec": {
   "display_name": "Python 3",
   "language": "python",
   "name": "python3"
  },
  "language_info": {
   "codemirror_mode": {
    "name": "ipython",
    "version": 3
   },
   "file_extension": ".py",
   "mimetype": "text/x-python",
   "name": "python",
   "nbconvert_exporter": "python",
   "pygments_lexer": "ipython3",
   "version": "3.8.8"
  }
 },
 "nbformat": 4,
 "nbformat_minor": 5
}
